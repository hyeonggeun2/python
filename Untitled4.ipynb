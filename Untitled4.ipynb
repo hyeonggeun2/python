{
 "cells": [
  {
   "cell_type": "code",
   "execution_count": 1,
   "metadata": {},
   "outputs": [],
   "source": [
    "import re\n",
    "from bs4 import BeautifulSoup"
   ]
  },
  {
   "cell_type": "code",
   "execution_count": 9,
   "metadata": {},
   "outputs": [],
   "source": [
    "with open('airbnb.txt', 'rt') as file:\n",
    "    html = file.read()"
   ]
  },
  {
   "cell_type": "code",
   "execution_count": 10,
   "metadata": {},
   "outputs": [
    {
     "data": {
      "text/plain": [
       "'[{\"code\":\"AUD\",\"id\":\"AUD\",\"symbol\":\"$\",\"unicode_symbol\":\"$\",\"is_eligible_for_guest\":true},{\"code\":\"BRL\",\"id\":\"BRL\",\"symbol\":\"R$\",\"unicode_symbol\":\"R$\",\"is_eligible_for_guest\":true},{\"code\":\"BGN\",\"id\":\"BGN\",\"symbol\":\"&#1083;&#1074;\",\"unicode_symbol\":\"лв\",\"is_eligible_for_guest\":true},{\"code\":\"CAD\",\"id\":\"CAD\",\"symbol\":\"$\",\"unicode_symbol\":\"$\",\"is_eligible_for_guest\":true},{\"code\":\"CLP\",\"id\":\"CLP\",\"symbol\":\"$\",\"unicode_symbol\":\"$\",\"is_eligible_for_guest\":true},{\"code\":\"CNY\",\"id\":\"CNY\",\"symbol\":\"&#65509;\",\"unicode_symbol\":\"￥\",\"is_eligible_for_guest\":true},{\"code\":\"COP\",\"id\":\"COP\",\"symbol\":\"$\",\"unicode_symbol\":\"$\",\"is_eligible_for_guest\":true},{\"code\":\"CRC\",\"id\":\"CRC\",\"symbol\":\"&#8353;\",\"unicode_symbol\":\"₡\",\"is_eligible_for_guest\":true},{\"code\":\"HRK\",\"id\":\"HRK\",\"symbol\":\"kn\",\"unicode_symbol\":\"kn\",\"is_eligible_for_guest\":true},{\"code\":\"CZK\",\"id\":\"CZK\",\"symbol\":\"&#75;&#269;\",\"unicode_symbol\":\"Kč\",\"is_eligible_for_guest\":true},{\"code\":\"DKK\",\"id\":\"DKK\",\"symbol\":\"kr\",\"unicode_symbol\":\"kr\",\"is_eligible_for_guest\":true},{\"code\":\"AED\",\"id\":\"AED\",\"symbol\":\"&#1583;.&#1573;\",\"unicode_symbol\":\"ﺩ.ﺇ\",\"is_eligible_for_guest\":true},{\"code\":\"EUR\",\"id\":\"EUR\",\"symbol\":\"&euro;\",\"unicode_symbol\":\"€\",\"is_eligible_for_guest\":true},{\"code\":\"HKD\",\"id\":\"HKD\",\"symbol\":\"$\",\"unicode_symbol\":\"$\",\"is_eligible_for_guest\":true},{\"code\":\"HUF\",\"id\":\"HUF\",\"symbol\":\"Ft\",\"unicode_symbol\":\"Ft\",\"is_eligible_for_guest\":true},{\"code\":\"INR\",\"id\":\"INR\",\"symbol\":\"&#8377;\",\"unicode_symbol\":\"₹\",\"is_eligible_for_guest\":true},{\"code\":\"ILS\",\"id\":\"ILS\",\"symbol\":\"&#8362;\",\"unicode_symbol\":\"₪\",\"is_eligible_for_guest\":true},{\"code\":\"JPY\",\"id\":\"JPY\",\"symbol\":\"&yen;\",\"unicode_symbol\":\"¥\",\"is_eligible_for_guest\":true},{\"code\":\"MYR\",\"id\":\"MYR\",\"symbol\":\"&#82;&#77;\",\"unicode_symbol\":\"RM\",\"is_eligible_for_guest\":true},{\"code\":\"MXN\",\"id\":\"MXN\",\"symbol\":\"$\",\"unicode_symbol\":\"$\",\"is_eligible_for_guest\":true},{\"code\":\"MAD\",\"id\":\"MAD\",\"symbol\":\"MAD\",\"unicode_symbol\":\"MAD\",\"is_eligible_for_guest\":true},{\"code\":\"TWD\",\"id\":\"TWD\",\"symbol\":\"$\",\"unicode_symbol\":\"$\",\"is_eligible_for_guest\":true},{\"code\":\"NZD\",\"id\":\"NZD\",\"symbol\":\"$\",\"unicode_symbol\":\"$\",\"is_eligible_for_guest\":true},{\"code\":\"NOK\",\"id\":\"NOK\",\"symbol\":\"kr\",\"unicode_symbol\":\"kr\",\"is_eligible_for_guest\":true},{\"code\":\"PEN\",\"id\":\"PEN\",\"symbol\":\"&#83;&#47;\",\"unicode_symbol\":\"S/\",\"is_eligible_for_guest\":true},{\"code\":\"PHP\",\"id\":\"PHP\",\"symbol\":\"&#8369;\",\"unicode_symbol\":\"₱\",\"is_eligible_for_guest\":true},{\"code\":\"PLN\",\"id\":\"PLN\",\"symbol\":\"z&#22;&#322;\",\"unicode_symbol\":\"zł\",\"is_eligible_for_guest\":true},{\"code\":\"GBP\",\"id\":\"GBP\",\"symbol\":\"&pound;\",\"unicode_symbol\":\"£\",\"is_eligible_for_guest\":true},{\"code\":\"RON\",\"id\":\"RON\",\"symbol\":\"lei\",\"unicode_symbol\":\"lei\",\"is_eligible_for_guest\":true},{\"code\":\"RUB\",\"id\":\"RUB\",\"symbol\":\"&#1088;\",\"unicode_symbol\":\"₽\",\"is_eligible_for_guest\":true},{\"code\":\"SAR\",\"id\":\"SAR\",\"symbol\":\"SR\",\"unicode_symbol\":\"SR\",\"is_eligible_for_guest\":true},{\"code\":\"SGD\",\"id\":\"SGD\",\"symbol\":\"$\",\"unicode_symbol\":\"$\",\"is_eligible_for_guest\":true},{\"code\":\"ZAR\",\"id\":\"ZAR\",\"symbol\":\"R\",\"unicode_symbol\":\"R\",\"is_eligible_for_guest\":true},{\"code\":\"KRW\",\"id\":\"KRW\",\"symbol\":\"&#8361;\",\"unicode_symbol\":\"₩\",\"is_eligible_for_guest\":true},{\"code\":\"SEK\",\"id\":\"SEK\",\"symbol\":\"kr\",\"unicode_symbol\":\"kr\",\"is_eligible_for_guest\":true},{\"code\":\"CHF\",\"id\":\"CHF\",\"symbol\":\"CHF\",\"unicode_symbol\":\"CHF\",\"is_eligible_for_guest\":true},{\"code\":\"THB\",\"id\":\"THB\",\"symbol\":\"&#3647;\",\"unicode_symbol\":\"฿\",\"is_eligible_for_guest\":true},{\"code\":\"TRY\",\"id\":\"TRY\",\"symbol\":\"&#84;&#76;\",\"unicode_symbol\":\"₺\",\"is_eligible_for_guest\":true},{\"code\":\"USD\",\"id\":\"USD\",\"symbol\":\"$\",\"unicode_symbol\":\"$\",\"is_eligible_for_guest\":true},{\"code\":\"UYU\",\"id\":\"UYU\",\"symbol\":\"&#36;&#85;\",\"unicode_symbol\":\"$U\",\"is_eligible_for_guest\":true}]'"
      ]
     },
     "execution_count": 10,
     "metadata": {},
     "output_type": "execute_result"
    }
   ],
   "source": [
    "html"
   ]
  },
  {
   "cell_type": "code",
   "execution_count": null,
   "metadata": {},
   "outputs": [],
   "source": []
  },
  {
   "cell_type": "code",
   "execution_count": 11,
   "metadata": {},
   "outputs": [
    {
     "data": {
      "text/plain": [
       "[('AUD', '$'),\n",
       " ('BRL', 'R$'),\n",
       " ('BGN', 'лв'),\n",
       " ('CAD', '$'),\n",
       " ('CLP', '$'),\n",
       " ('CNY', '￥'),\n",
       " ('COP', '$'),\n",
       " ('CRC', '₡'),\n",
       " ('HRK', 'kn'),\n",
       " ('CZK', 'Kč'),\n",
       " ('DKK', 'kr'),\n",
       " ('AED', 'ﺩ.ﺇ'),\n",
       " ('EUR', '€'),\n",
       " ('HKD', '$'),\n",
       " ('HUF', 'Ft'),\n",
       " ('INR', '₹'),\n",
       " ('ILS', '₪'),\n",
       " ('JPY', '¥'),\n",
       " ('MYR', 'RM'),\n",
       " ('MXN', '$'),\n",
       " ('MAD', 'MAD'),\n",
       " ('TWD', '$'),\n",
       " ('NZD', '$'),\n",
       " ('NOK', 'kr'),\n",
       " ('PEN', 'S/'),\n",
       " ('PHP', '₱'),\n",
       " ('PLN', 'zł'),\n",
       " ('GBP', '£'),\n",
       " ('RON', 'lei'),\n",
       " ('RUB', '₽'),\n",
       " ('SAR', 'SR'),\n",
       " ('SGD', '$'),\n",
       " ('ZAR', 'R'),\n",
       " ('KRW', '₩'),\n",
       " ('SEK', 'kr'),\n",
       " ('CHF', 'CHF'),\n",
       " ('THB', '฿'),\n",
       " ('TRY', '₺'),\n",
       " ('USD', '$'),\n",
       " ('UYU', '$U')]"
      ]
     },
     "execution_count": 11,
     "metadata": {},
     "output_type": "execute_result"
    }
   ],
   "source": [
    "re.findall('\"code\":\"(.*?)\".*?\"unicode_symbol\":\"(.*?)\"', html)"
   ]
  },
  {
   "cell_type": "code",
   "execution_count": 10,
   "metadata": {},
   "outputs": [
    {
     "data": {
      "text/plain": [
       "bs4.BeautifulSoup"
      ]
     },
     "execution_count": 10,
     "metadata": {},
     "output_type": "execute_result"
    }
   ],
   "source": []
  },
  {
   "cell_type": "code",
   "execution_count": null,
   "metadata": {},
   "outputs": [],
   "source": []
  }
 ],
 "metadata": {
  "kernelspec": {
   "display_name": "Python 3",
   "language": "python",
   "name": "python3"
  },
  "language_info": {
   "codemirror_mode": {
    "name": "ipython",
    "version": 3
   },
   "file_extension": ".py",
   "mimetype": "text/x-python",
   "name": "python",
   "nbconvert_exporter": "python",
   "pygments_lexer": "ipython3",
   "version": "3.7.5"
  }
 },
 "nbformat": 4,
 "nbformat_minor": 2
}
