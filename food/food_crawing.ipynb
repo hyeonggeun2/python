{
 "cells": [
  {
   "cell_type": "code",
   "execution_count": 55,
   "metadata": {},
   "outputs": [],
   "source": [
    "import requests\n",
    "import json\n",
    "from bs4 import BeautifulSoup"
   ]
  },
  {
   "cell_type": "code",
   "execution_count": 37,
   "metadata": {},
   "outputs": [],
   "source": [
    "food_list = []\n",
    "result_db = []"
   ]
  },
  {
   "cell_type": "code",
   "execution_count": 42,
   "metadata": {},
   "outputs": [],
   "source": [
    "for page in range(1, 393):\n",
    "    url = f'https://terms.naver.com/list.nhn?cid=48180&categoryId=48180&page={page}'\n",
    "    response = requests.get(url)\n",
    "    html = BeautifulSoup(response.text)\n",
    "    foods = html.select('div.subject strong')[1:]\n",
    "    \n",
    "    for food in foods:\n",
    "        food_title = food.select_one('a')\n",
    "        food_list.append(food_title.text)"
   ]
  },
  {
   "cell_type": "code",
   "execution_count": 51,
   "metadata": {},
   "outputs": [],
   "source": [
    "temp_list = food_list[:]\n",
    "\n",
    "for food in temp_list:\n",
    "    food_name = food.split(' [')[0]\n",
    "    res_name = food_name.split(' -')[0]\n",
    "    if len(res_name) < 8:\n",
    "        result_db.append(res_name)"
   ]
  },
  {
   "cell_type": "code",
   "execution_count": 76,
   "metadata": {},
   "outputs": [],
   "source": [
    "result_db = list(set(result_db))\n",
    "with open('./food.json', 'wt', encoding='utf-8') as file:\n",
    "    json.dump(result_db, file, indent=\"\\t\", ensure_ascii = False)"
   ]
  },
  {
   "cell_type": "code",
   "execution_count": null,
   "metadata": {},
   "outputs": [],
   "source": []
  }
 ],
 "metadata": {
  "kernelspec": {
   "display_name": "Python 3",
   "language": "python",
   "name": "python3"
  },
  "language_info": {
   "codemirror_mode": {
    "name": "ipython",
    "version": 3
   },
   "file_extension": ".py",
   "mimetype": "text/x-python",
   "name": "python",
   "nbconvert_exporter": "python",
   "pygments_lexer": "ipython3",
   "version": "3.7.5"
  }
 },
 "nbformat": 4,
 "nbformat_minor": 2
}
