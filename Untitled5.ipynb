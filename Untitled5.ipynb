{
 "cells": [
  {
   "cell_type": "code",
   "execution_count": 93,
   "metadata": {},
   "outputs": [
    {
     "name": "stdout",
     "output_type": "stream",
     "text": [
      "6 3 3\n",
      "1300\n"
     ]
    }
   ],
   "source": [
    "a, b, c = map(int, (input().split()))\n",
    "maxnum = max(a, b, c)\n",
    "if a == b or a == c:\n",
    "    if b == c:\n",
    "        print(a*1000 + 10000)\n",
    "    else:\n",
    "        print(a*100 + 1000)\n",
    "elif b == c:\n",
    "    print(b*100 + 1000)\n",
    "else:\n",
    "    print(maxnum*100)"
   ]
  },
  {
   "cell_type": "code",
   "execution_count": 96,
   "metadata": {},
   "outputs": [
    {
     "ename": "SyntaxError",
     "evalue": "invalid syntax (<ipython-input-96-75c974162d98>, line 2)",
     "output_type": "error",
     "traceback": [
      "\u001b[0;36m  File \u001b[0;32m\"<ipython-input-96-75c974162d98>\"\u001b[0;36m, line \u001b[0;32m2\u001b[0m\n\u001b[0;31m    [x, y for x, y in range(num) input().split()]\u001b[0m\n\u001b[0m            ^\u001b[0m\n\u001b[0;31mSyntaxError\u001b[0m\u001b[0;31m:\u001b[0m invalid syntax\n"
     ]
    }
   ],
   "source": [
    "num = int(input())\n",
    "for _ in range(num):\n",
    "    "
   ]
  },
  {
   "cell_type": "code",
   "execution_count": null,
   "metadata": {},
   "outputs": [],
   "source": []
  }
 ],
 "metadata": {
  "kernelspec": {
   "display_name": "Python 3",
   "language": "python",
   "name": "python3"
  },
  "language_info": {
   "codemirror_mode": {
    "name": "ipython",
    "version": 3
   },
   "file_extension": ".py",
   "mimetype": "text/x-python",
   "name": "python",
   "nbconvert_exporter": "python",
   "pygments_lexer": "ipython3",
   "version": "3.7.5"
  }
 },
 "nbformat": 4,
 "nbformat_minor": 2
}
