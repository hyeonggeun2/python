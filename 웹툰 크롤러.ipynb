{
 "cells": [
  {
   "cell_type": "code",
   "execution_count": 159,
   "metadata": {},
   "outputs": [],
   "source": [
    "import re\n",
    "import requests\n",
    "from bs4 import BeautifulSoup\n",
    "# url = f'https://comic.naver.com/webtoon/list.nhn?titleId={title_id}' #기본 주소\n",
    "url = 'https://comic.naver.com/webtoon/weekday.nhn' #기본 주소\n",
    "response = requests.get(url)\n",
    "html = BeautifulSoup(response.text)"
   ]
  },
  {
   "cell_type": "code",
   "execution_count": 167,
   "metadata": {},
   "outputs": [],
   "source": [
    "# 전체 타이틀과 고유번호를 저장할 딕셔너리\n",
    "webtoon_info = {}\n",
    "\n",
    "def get_title_info(input_title, function):\n",
    "    input_title_list = [] # 입력받은 값만 저장해 줄 리스트\n",
    "    \n",
    "    img_tag = html.select('div.thumb img[title]')\n",
    "    \n",
    "    # 타이틀과 고유번호 얻음\n",
    "    for tag in img_tag:\n",
    "        title = tag['title']\n",
    "        title_id_tag = tag['src']\n",
    "        title_id = re.findall(r'.*?webtoon/(\\d+).*?', title_id_tag)[0]\n",
    "    \n",
    "        webtoon_info[title] = title_id # 딕셔너리에 값을 저장\n",
    "    \n",
    "    # 키와 값으로 필요한 값만 리스트에 따로 저장\n",
    "    for key, value in webtoon_info.items():\n",
    "        if input_title in key:\n",
    "            input_title_list.append((key, value))\n",
    "            \n",
    "    for index, item in enumerate(input_title_list):\n",
    "        print(f'{index+1}. {item[0]}')\n",
    "    print('0. 이전\\n')\n",
    "    \n",
    "    case = input('> 웹툰 선택: ')\n",
    "    \n",
    "    if (case == '0'): # 이전으로 갈 경우 아무동작 없이 종료\n",
    "        return\n",
    "    \n",
    "    # 입력 값이 올바를 경우 고유 번호에 맞는 URL에 들어가서 html받아오기\n",
    "    search_id = input_title_list[int(case)-1][1]\n",
    "    url = f'https://comic.naver.com/webtoon/list.nhn?titleId={search_id}'\n",
    "    response = requests.get(url)\n",
    "    search_html = BeautifulSoup(response.text)\n",
    "        \n",
    "    function(search_html) # 각 동작에 따라 다른함수를 실행하게 함    \n",
    "\n",
    "# 작가, 설명 등 상세정보 출력\n",
    "def get_info(html):\n",
    "    details = html.select_one('div.detail')\n",
    "    detail = details.select_one('h2')\n",
    "    \n",
    "    # 각각의 디테일 정보 얻음\n",
    "    title = detail.contents[0].strip()\n",
    "    name = detail.select_one('span.wrt_nm').get_text(strip=True)\n",
    "    string = details.select_one('p').get_text('\\n')\n",
    "    gern = details.select_one('span.genre').get_text()\n",
    "    \n",
    "    print(f'# 정보 ({title})\\n작가: {name}\\n장르: {gern}\\n{string}\\n')\n",
    "\n",
    "# 에피소드의 제목, 이름, 작성일 출력\n",
    "def get_episode(html):\n",
    "    titles = html.select('td.title')\n",
    "    ratings = html.select('div.rating_type strong')\n",
    "    dates = html.select('td.num')\n",
    "    for i in range(len(titles)):\n",
    "        print(f'{titles[i].get_text(strip=True)}')\n",
    "        print(f' 평점: {ratings[i].get_text()}, 날짜: {dates[i].get_text()}')\n",
    "    print()"
   ]
  },
  {
   "cell_type": "code",
   "execution_count": null,
   "metadata": {
    "scrolled": true
   },
   "outputs": [
    {
     "name": "stdout",
     "output_type": "stream",
     "text": [
      "## 웹툰 크롤러 ##\n",
      "1. 정보\n",
      "2. 에피소드 목록\n",
      "0. 나가기\n",
      "\n",
      "> 입력: 1\n",
      "> 웹툰명을 입력하세요: 유\n",
      "1. 유일무이 로맨스\n",
      "2. 윌유메리미\n",
      "3. 유미의 세포들\n",
      "4. 공유몽\n",
      "5. 유령극단\n",
      "0. 이전\n",
      "\n",
      "> 웹툰 선택: 1\n",
      "# 정보 (유일무이 로맨스)\n",
      "작가: 두부\n",
      "장르: 스토리, 일상, 드라마, 로맨스\n",
      "평범한 취준생 공유일의 일상에 \n",
      "인기절정 탑배우 탁무이와 아이돌 류민이 침범해오기 시작했다!\n",
      "\n",
      "## 웹툰 크롤러 ##\n",
      "1. 정보\n",
      "2. 에피소드 목록\n",
      "0. 나가기\n",
      "\n"
     ]
    }
   ],
   "source": [
    "while True:\n",
    "    print('## 웹툰 크롤러 ##\\n1. 정보\\n2. 에피소드 목록\\n0. 나가기\\n')\n",
    "    case = input('> 입력: ')\n",
    "    \n",
    "    if (case == '1'):\n",
    "        title = input('> 웹툰명을 입력하세요: ')\n",
    "        get_title_info(title, get_info)\n",
    "    \n",
    "    elif (case == '2'):\n",
    "        title = input('> 웹툰명을 입력하세요: ')\n",
    "        get_title_info(title, get_episode)\n",
    "    \n",
    "    elif (case == '0'):\n",
    "        break\n",
    "        \n",
    "    else:\n",
    "        print('입력이 틀렸습니다. 다시 입력하세요.')"
   ]
  },
  {
   "cell_type": "code",
   "execution_count": null,
   "metadata": {},
   "outputs": [],
   "source": []
  }
 ],
 "metadata": {
  "kernelspec": {
   "display_name": "Python 3",
   "language": "python",
   "name": "python3"
  },
  "language_info": {
   "codemirror_mode": {
    "name": "ipython",
    "version": 3
   },
   "file_extension": ".py",
   "mimetype": "text/x-python",
   "name": "python",
   "nbconvert_exporter": "python",
   "pygments_lexer": "ipython3",
   "version": "3.7.5"
  }
 },
 "nbformat": 4,
 "nbformat_minor": 2
}
