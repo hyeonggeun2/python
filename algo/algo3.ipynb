{
 "cells": [
  {
   "cell_type": "code",
   "execution_count": 33,
   "metadata": {},
   "outputs": [
    {
     "name": "stdout",
     "output_type": "stream",
     "text": [
      "20\n",
      "7\n",
      "23\n",
      "19\n",
      "10\n",
      "15\n",
      "25\n",
      "8\n",
      "13\n",
      "7\n",
      "8\n",
      "10\n",
      "13\n",
      "19\n",
      "20\n",
      "23\n"
     ]
    }
   ],
   "source": [
    "A = [int(input()) for i in range(9)]\n",
    "minus = sum(A) - 100\n",
    "except_num = []\n",
    "\n",
    "for i in range(len(A)):\n",
    "    for j in range(i+1, len(A)):\n",
    "        check_num = A[i]+A[j]    \n",
    "        if minus == check_num:\n",
    "            except_num.append(A[i])\n",
    "            except_num.append(A[j])\n",
    "            \n",
    "A.remove(except_num[0])\n",
    "A.remove(except_num[1])\n",
    "A.sort()\n",
    "\n",
    "for i in A:\n",
    "    print(i)"
   ]
  },
  {
   "cell_type": "code",
   "execution_count": 11,
   "metadata": {},
   "outputs": [
    {
     "name": "stdout",
     "output_type": "stream",
     "text": [
      "9\n",
      "AAAABBBBB\n",
      "4\n",
      "Adrian\n",
      "Bruno\n",
      "Goran\n"
     ]
    }
   ],
   "source": [
    "count_list = [0, 0, 0]\n",
    "name_list = ['Adrian', 'Bruno', 'Goran']\n",
    "patterns = ['ABC', 'BABC', 'CCAABB']\n",
    "\n",
    "N = int(input())\n",
    "A = input()\n",
    "\n",
    "for idx, i in enumerate(A):\n",
    "    if patterns[0][idx%3] == i:\n",
    "        count_list[0] += 1\n",
    "    if patterns[1][idx%4] == i:\n",
    "        count_list[1] += 1\n",
    "    if patterns[2][idx%6] == i:\n",
    "        count_list[2] += 1\n",
    "        \n",
    "max_num = max(count_list)\n",
    "print(max_num)\n",
    "\n",
    "for i in range(3):\n",
    "    if count_list[i] == max_num:\n",
    "        print(name_list[i])"
   ]
  },
  {
   "cell_type": "code",
   "execution_count": 35,
   "metadata": {},
   "outputs": [
    {
     "name": "stdout",
     "output_type": "stream",
     "text": [
      "3 3\n",
      "WBW\n",
      "BWB\n",
      "WBW\n",
      "[[1, 1, 1], [1, 1, 1], [1, 1, 1]]\n"
     ]
    }
   ],
   "source": [
    "board_x, board_y = map(int, (input().split()))\n",
    "board = [input() for i in range(board_x)]\n",
    "\n",
    "board_zero = [[0 for i in range(board_y + 2)] for j in range(board_x + 2)]\n",
    "check_list = [[0 for i in range(board_y)] for j in range(board_x)]\n",
    "\n",
    "for i in range(board_x):\n",
    "    for j in range(board_y):\n",
    "        board_zero[i+1][j+1] = board[i][j]\n",
    "\n",
    "def check_board(board):\n",
    "    def check_one(x, y):\n",
    "        x, y = x+1, y+1\n",
    "        if (board_zero[x][y] != board_zero[x-1][y] and board_zero[x][y] != board_zero[x+1][y] and\n",
    "            board_zero[x][y] != board_zero[x][y-1] and board_zero[x][y] != board_zero[x][y+1]):\n",
    "            check_list[x-1][y-1] = 1\n",
    "        else: check_list[x-1][y-1] = 0\n",
    "        \n",
    "    for i in range(board_x):\n",
    "        for j in range(board_y):\n",
    "            check_one(i, j)\n",
    "    \n",
    "check_board(board)\n",
    "print(check_list)"
   ]
  },
  {
   "cell_type": "markdown",
   "metadata": {},
   "source": [
    "### "
   ]
  }
 ],
 "metadata": {
  "kernelspec": {
   "display_name": "Python 3",
   "language": "python",
   "name": "python3"
  },
  "language_info": {
   "codemirror_mode": {
    "name": "ipython",
    "version": 3
   },
   "file_extension": ".py",
   "mimetype": "text/x-python",
   "name": "python",
   "nbconvert_exporter": "python",
   "pygments_lexer": "ipython3",
   "version": "3.7.5"
  }
 },
 "nbformat": 4,
 "nbformat_minor": 2
}
