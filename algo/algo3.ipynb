{
 "cells": [
  {
   "cell_type": "code",
   "execution_count": null,
   "metadata": {},
   "outputs": [],
   "source": [
    "A = [int(input()) for i in range(9)]\n",
    "minus = sum(A) - 100\n",
    "except_num = []\n",
    "\n",
    "for i in range(len(A)):\n",
    "    for j in range(i+1, len(A)):\n",
    "        check_num = A[i]+A[j]    \n",
    "        if minus == check_num:\n",
    "            except_num.append(A[i])\n",
    "            except_num.append(A[j])\n",
    "            \n",
    "A.remove(except_num[0])\n",
    "A.remove(except_num[1])\n",
    "A.sort()\n",
    "\n",
    "for i in A:\n",
    "    print(i)"
   ]
  },
  {
   "cell_type": "code",
   "execution_count": null,
   "metadata": {},
   "outputs": [],
   "source": [
    "count_list = [0, 0, 0]\n",
    "name_list = ['Adrian', 'Bruno', 'Goran']\n",
    "patterns = ['ABC', 'BABC', 'CCAABB']\n",
    "\n",
    "N = int(input())\n",
    "A = input()\n",
    "\n",
    "for idx, i in enumerate(A):\n",
    "    if patterns[0][idx%3] == i:\n",
    "        count_list[0] += 1\n",
    "    if patterns[1][idx%4] == i:\n",
    "        count_list[1] += 1\n",
    "    if patterns[2][idx%6] == i:\n",
    "        count_list[2] += 1\n",
    "        \n",
    "max_num = max(count_list)\n",
    "print(max_num)\n",
    "\n",
    "for i in range(3):\n",
    "    if count_list[i] == max_num:\n",
    "        print(name_list[i])"
   ]
  },
  {
   "cell_type": "code",
   "execution_count": null,
   "metadata": {},
   "outputs": [],
   "source": [
    "board_x, board_y = map(int, (input().split()))\n",
    "board = [input() for i in range(board_x)]\n",
    "\n",
    "board_zero = [[0 for i in range(board_y + 2)] for j in range(board_x + 2)]\n",
    "check_list = [[0 for i in range(board_y)] for j in range(board_x)]\n",
    "\n",
    "for i in range(board_x):\n",
    "    for j in range(board_y):\n",
    "        board_zero[i+1][j+1] = board[i][j]\n",
    "\n",
    "def check_board(board):\n",
    "    def check_one(x, y):\n",
    "        x, y = x+1, y+1\n",
    "        if (board_zero[x][y] != board_zero[x-1][y] and board_zero[x][y] != board_zero[x+1][y] and\n",
    "            board_zero[x][y] != board_zero[x][y-1] and board_zero[x][y] != board_zero[x][y+1]):\n",
    "            check_list[x-1][y-1] = 1\n",
    "        else: check_list[x-1][y-1] = 0\n",
    "        \n",
    "    for i in range(board_x):\n",
    "        for j in range(board_y):\n",
    "            check_one(i, j)\n",
    "    \n",
    "check_board(board)\n",
    "print(check_list)"
   ]
  },
  {
   "cell_type": "code",
   "execution_count": null,
   "metadata": {
    "scrolled": true
   },
   "outputs": [],
   "source": [
    "N = int(input())\n",
    "check_list = [-1 for i in range(N+1)]\n",
    "check_list[N] = 0\n",
    "\n",
    "queue = []\n",
    "queue.append(N)\n",
    "while len(queue) > 0:\n",
    "    p_num = queue.pop(0)\n",
    "    if p_num == 1:\n",
    "        print(check_list[1])\n",
    "        break;\n",
    "\n",
    "    if p_num % 2 == 0 and check_list[int(p_num / 2)] == -1:\n",
    "        queue.append(int(p_num / 2))\n",
    "        check_list[int(p_num / 2)] = check_list[p_num] + 1\n",
    "    \n",
    "    if p_num % 3 == 0 and check_list[int(p_num / 3)] == -1:\n",
    "        queue.append(int(p_num / 3))\n",
    "        check_list[int(p_num / 3)] = check_list[p_num] + 1\n",
    "\n",
    "    if check_list[p_num - 1] == -1 :\n",
    "        queue.append(p_num - 1)\n",
    "        check_list[p_num - 1] = check_list[p_num] + 1"
   ]
  },
  {
   "cell_type": "code",
   "execution_count": null,
   "metadata": {},
   "outputs": [],
   "source": [
    "T = int(input())\n",
    "Ns = [int(input()) for i in range(T)]\n",
    "\n",
    "def plus_123(N):\n",
    "    if N == 0: return print(0)\n",
    "    if N == 1: return print(1)\n",
    "    if N == 2: return print(2)\n",
    "    if N == 3: return print(4)\n",
    "    \n",
    "    def func(x):\n",
    "        res_list = []\n",
    "        for i in range(1,4):\n",
    "            if sum([*x, i]) <= N:\n",
    "                res_list.append([*x, i])\n",
    "        if res_list == []:\n",
    "            res_list.append(x)\n",
    "        return res_list\n",
    "    \n",
    "    nums_list = [[1],[2],[3]]\n",
    "    for i in range(N - 1):\n",
    "        nums_list = sum(list(map(func ,nums_list)), [])\n",
    "    \n",
    "    print(len(nums_list))\n",
    "            \n",
    "for N in Ns:\n",
    "    plus_123(N)"
   ]
  },
  {
   "cell_type": "code",
   "execution_count": null,
   "metadata": {},
   "outputs": [],
   "source": []
  }
 ],
 "metadata": {
  "kernelspec": {
   "display_name": "Python 3",
   "language": "python",
   "name": "python3"
  },
  "language_info": {
   "codemirror_mode": {
    "name": "ipython",
    "version": 3
   },
   "file_extension": ".py",
   "mimetype": "text/x-python",
   "name": "python",
   "nbconvert_exporter": "python",
   "pygments_lexer": "ipython3",
   "version": "3.7.5"
  }
 },
 "nbformat": 4,
 "nbformat_minor": 2
}
