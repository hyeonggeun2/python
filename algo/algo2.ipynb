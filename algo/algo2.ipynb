{
 "cells": [
  {
   "cell_type": "code",
   "execution_count": 16,
   "metadata": {},
   "outputs": [
    {
     "name": "stdout",
     "output_type": "stream",
     "text": [
      "1000\n",
      "2\n"
     ]
    }
   ],
   "source": [
    "# 1\n",
    "num = int(input())\n",
    "res = (num-1) % 8 + 1\n",
    "\n",
    "if res <= 5:\n",
    "    print(res)\n",
    "elif res == 6:\n",
    "    print(4)\n",
    "elif res == 7:\n",
    "    print(3)\n",
    "elif res == 8:\n",
    "    print(2)"
   ]
  },
  {
   "cell_type": "code",
   "execution_count": 42,
   "metadata": {},
   "outputs": [
    {
     "name": "stdout",
     "output_type": "stream",
     "text": [
      "1\n",
      "2 2 6 6\n",
      "6000\n"
     ]
    }
   ],
   "source": [
    "# 2\n",
    "person = int(input())\n",
    "reward_list = []\n",
    "\n",
    "def reward(num):\n",
    "    fun_list = list(map(int, num))\n",
    "    unique_list = list(set(fun_list))\n",
    "    \n",
    "    # 모두 같은 수\n",
    "    if len(unique_list) == 1:\n",
    "        reward_list.append((fun_list[0] * 5000) + 50000)\n",
    "    \n",
    "    # 단 2개만 같을 때\n",
    "    elif len(unique_list) == 3:\n",
    "        eqal_num = None\n",
    "        fun_list.sort()\n",
    "        unique_list.sort()\n",
    "        \n",
    "        for idx in range(3):\n",
    "            if unique_list[idx] != fun_list[idx]:\n",
    "                eqal_num = fun_list[idx]\n",
    "                break\n",
    "                \n",
    "        if eqal_num is None:\n",
    "            eqal_num = unique_list[2]       \n",
    "        \n",
    "        reward_list.append((eqal_num * 100) + 1000)\n",
    "    \n",
    "    # 모두 다른 수\n",
    "    elif len(unique_list) == 4:\n",
    "        reward_list.append(max(fun_list) * 100)\n",
    "    \n",
    "    # 2개 2개가 같거나 3개가 같을 때\n",
    "    else:\n",
    "        fun_list.sort()\n",
    "        unique_list.sort()\n",
    "        \n",
    "        # 2개 2개 일 때\n",
    "        if (unique_list[0] == fun_list[1]) and (unique_list[1] == fun_list[2]):\n",
    "            reward_list.append((unique_list[0] * 500) + (unique_list[1] * 500) + 2000)\n",
    "        \n",
    "        # 3개 1개 일 때\n",
    "        else:\n",
    "            eqal_num = None\n",
    "            \n",
    "            for idx in range(2):\n",
    "                if unique_list[idx] != fun_list[idx]:\n",
    "                    eqal_num = fun_list[idx]\n",
    "                    break\n",
    "            \n",
    "            if eqal_num is None:\n",
    "                eqal_num = unique_list[1]\n",
    "                \n",
    "            reward_list.append((eqal_num * 1000) + 10000)\n",
    "    \n",
    "for i in range(person):\n",
    "    reward(input().split())    \n",
    "\n",
    "print(max(reward_list))"
   ]
  },
  {
   "cell_type": "code",
   "execution_count": 27,
   "metadata": {},
   "outputs": [
    {
     "name": "stdout",
     "output_type": "stream",
     "text": [
      "3 2\n",
      "BOJ IN\n",
      "1%\n"
     ]
    }
   ],
   "source": [
    "# 3\n",
    "trans = [3, 2, 1, 2, 4, 3, 1, 3, 1, 1, 3, 1, 3, 2, 1, 2, 2, 2, 1, 2, 1, 1, 1, 2, 2, 1]\n",
    "check_list = []\n",
    "\n",
    "nums = list(map(int, input().split()))\n",
    "for_num = max(nums)\n",
    "name1, name2 = input().split()\n",
    "\n",
    "for i in range(for_num):\n",
    "    if i < nums[0]:\n",
    "        check_list.append(trans[ord(name1[i]) - 65])\n",
    "    \n",
    "    if i < nums[1]:\n",
    "        check_list.append(trans[ord(name2[i]) - 65])\n",
    "\n",
    "while len(check_list) > 2:\n",
    "    for i in range(len(check_list) - 1):\n",
    "        check_list[i] = check_list[i] + check_list[i + 1]\n",
    "        \n",
    "        if check_list[i] >= 10:\n",
    "            check_list[i] -= 10\n",
    "        \n",
    "    check_list.pop()\n",
    "        \n",
    "res_num = check_list[0] * 10 + check_list[1]\n",
    "print(f'{res_num}%')"
   ]
  },
  {
   "cell_type": "code",
   "execution_count": 35,
   "metadata": {},
   "outputs": [
    {
     "name": "stdout",
     "output_type": "stream",
     "text": [
      "UFRN\n",
      "It is a prime word.\n"
     ]
    }
   ],
   "source": [
    "# 4\n",
    "word = input()\n",
    "check_num = 0;\n",
    "\n",
    "for char in word:\n",
    "    char_num = ord(char)\n",
    "    if char_num > 96:\n",
    "        check_num += char_num - 96\n",
    "    else:\n",
    "        check_num += char_num - 64\n",
    "\n",
    "def isPrime(num):\n",
    "    for i in range(2, num):\n",
    "        if i * i > num:\n",
    "            break\n",
    "        if num % i == 0:\n",
    "            return 'It is not a prime word.'\n",
    "    \n",
    "    return 'It is a prime word.'\n",
    "\n",
    "print(isPrime(check_num))"
   ]
  },
  {
   "cell_type": "code",
   "execution_count": 38,
   "metadata": {},
   "outputs": [
    {
     "name": "stdout",
     "output_type": "stream",
     "text": [
      "24 18\n",
      "6\n",
      "72\n"
     ]
    }
   ],
   "source": [
    "# 5\n",
    "num1, num2 = map(int, input().split())\n",
    "\n",
    "def GCD(num1, num2):\n",
    "    while num1 % num2 > 0:\n",
    "        num1, num2 = num2, num1 % num2\n",
    "    return num2\n",
    "\n",
    "def LCM(num1, num2):\n",
    "    return int(num1 * num2 / GCD(num1, num2))\n",
    "\n",
    "print(GCD(num1, num2))\n",
    "print(LCM(num1, num2))"
   ]
  },
  {
   "cell_type": "code",
   "execution_count": 9,
   "metadata": {},
   "outputs": [
    {
     "name": "stdout",
     "output_type": "stream",
     "text": [
      "399 499\n",
      "897\n"
     ]
    }
   ],
   "source": [
    "# 6\n",
    "def GCD(num1, num2):\n",
    "    while num1 % num2 > 0:\n",
    "        num1, num2 = num2, num1 % num2\n",
    "    return num2\n",
    "\n",
    "def diagonal(num1, num2):\n",
    "    multi_num = GCD(num1, num2)\n",
    "    return int(((num1/multi_num) + (num2/multi_num) -1) * multi_num)\n",
    "\n",
    "num1, num2 = map(int, input().split())\n",
    "print(diagonal(num1, num2))"
   ]
  },
  {
   "cell_type": "code",
   "execution_count": null,
   "metadata": {},
   "outputs": [],
   "source": []
  }
 ],
 "metadata": {
  "kernelspec": {
   "display_name": "Python 3",
   "language": "python",
   "name": "python3"
  },
  "language_info": {
   "codemirror_mode": {
    "name": "ipython",
    "version": 3
   },
   "file_extension": ".py",
   "mimetype": "text/x-python",
   "name": "python",
   "nbconvert_exporter": "python",
   "pygments_lexer": "ipython3",
   "version": "3.7.5"
  }
 },
 "nbformat": 4,
 "nbformat_minor": 2
}
