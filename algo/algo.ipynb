{
 "cells": [
  {
   "cell_type": "code",
   "execution_count": 1,
   "metadata": {
    "collapsed": true
   },
   "outputs": [
    {
     "name": "stdout",
     "output_type": "stream",
     "text": [
      "\n",
      "\n",
      "d\n",
      "d\n",
      "END\n",
      "\n",
      "\n",
      "d\n",
      "d\n",
      "\n"
     ]
    }
   ],
   "source": [
    "# 2\n",
    "rel_string = ''\n",
    "\n",
    "while(True):\n",
    "    temp = input()\n",
    "    if (temp == 'END'):\n",
    "        break;\n",
    "        \n",
    "    else:\n",
    "        rel_string += temp[::-1]\n",
    "        rel_string += '\\n'\n",
    "\n",
    "print(rel_string)"
   ]
  },
  {
   "cell_type": "code",
   "execution_count": 15,
   "metadata": {
    "collapsed": true
   },
   "outputs": [
    {
     "name": "stdout",
     "output_type": "stream",
     "text": [
      "the curious case of \n",
      "4\n"
     ]
    }
   ],
   "source": [
    "# 3\n",
    "string = input().split()\n",
    "print(len(string))"
   ]
  },
  {
   "cell_type": "code",
   "execution_count": 18,
   "metadata": {
    "collapsed": true
   },
   "outputs": [
    {
     "name": "stdout",
     "output_type": "stream",
     "text": [
      "39\n",
      "40\n",
      "41\n",
      "42\n",
      "43\n",
      "44\n",
      "82\n",
      "83\n",
      "84\n",
      "85\n",
      "6\n"
     ]
    }
   ],
   "source": [
    "# 4\n",
    "rel = []\n",
    "for i in range(10):\n",
    "    rel.append(int(input()) % 42)\n",
    "\n",
    "rel = list(set(rel))\n",
    "print(len(rel))"
   ]
  },
  {
   "cell_type": "code",
   "execution_count": 2,
   "metadata": {
    "collapsed": true
   },
   "outputs": [
    {
     "name": "stdout",
     "output_type": "stream",
     "text": [
      "baekjoon\n",
      "1 0 -1 -1 2 -1 -1 -1 -1 4 3 -1 -1 7 5 -1 -1 -1 -1 -1 -1 -1 -1 -1 -1 -1\n"
     ]
    }
   ],
   "source": [
    "# 5\n",
    "rel = [ -1 for i in range(26) ]\n",
    "string = input()\n",
    "\n",
    "for index, char in enumerate(string):\n",
    "    char = ord(char) - 97\n",
    "    if (rel[char] == -1):\n",
    "        rel[char] = index\n",
    "\n",
    "print(' '.join([\n",
    "    str(char) for char in rel\n",
    "]))"
   ]
  },
  {
   "cell_type": "code",
   "execution_count": 12,
   "metadata": {
    "collapsed": true
   },
   "outputs": [
    {
     "name": "stdout",
     "output_type": "stream",
     "text": [
      "5 4 4 5\n",
      "5 4 4 4\n",
      "5 5 4 4\n",
      "5 5 5 4\n",
      "4 4 4 5\n",
      "4 19\n"
     ]
    }
   ],
   "source": [
    "# 6\n",
    "from functools import reduce\n",
    "\n",
    "maxnum = 0\n",
    "maxidx = 0\n",
    "\n",
    "for i in range(5):\n",
    "    nums = input().split()\n",
    "    \n",
    "    def sum(num_list):\n",
    "        num_list = list(map(int, num_list))\n",
    "        return reduce(lambda x, y: x + y, num_list)\n",
    "    \n",
    "    sum_num = sum(nums)\n",
    "    \n",
    "    if maxnum < sum_num:\n",
    "        maxnum = sum_num\n",
    "        maxidx = i + 1\n",
    "        \n",
    "print(maxidx, maxnum)"
   ]
  },
  {
   "cell_type": "code",
   "execution_count": 22,
   "metadata": {
    "collapsed": true
   },
   "outputs": [
    {
     "name": "stdout",
     "output_type": "stream",
     "text": [
      "2012\n",
      "1\n"
     ]
    }
   ],
   "source": [
    "# 7\n",
    "year = int(input())\n",
    "\n",
    "if ((not year % 4) and ((year % 100) or (not year % 400))):\n",
    "    print(1)\n",
    "else:\n",
    "    print(0)"
   ]
  },
  {
   "cell_type": "code",
   "execution_count": 7,
   "metadata": {},
   "outputs": [
    {
     "name": "stdout",
     "output_type": "stream",
     "text": [
      "3\n",
      "111\n",
      "101\n",
      "111\n",
      "[['1', '1', '1'], ['1', '0', '1'], ['1', '1', '1']]\n"
     ]
    }
   ],
   "source": [
    "# 2667 단지 번호 붙이기\n",
    "size = int(input())\n",
    "home_map = []\n",
    "home_index = 0\n",
    "home_size = 0\n",
    "\n",
    "# 상하좌우 재귀 이동\n",
    "def search(x, y):\n",
    "    global home_index\n",
    "    global home_size\n",
    "    home_index += 1\n",
    "    home_size += 1\n",
    "    x = 3\n",
    "    y = 1\n",
    "    \n",
    "for i in range(size):\n",
    "    home = input()\n",
    "    dot_list = []\n",
    "    for dot in home:\n",
    "        dot_list.append(dot)\n",
    "    home_map.append(dot_list)\n",
    "\n",
    "for h_idx, home in enumerate(home_map):\n",
    "    for d_idx, dot in enumerate(home):\n",
    "        ## 1일때 시작해서 1더하고 0으로 바꾸고 상하좌우로 이동해서 반복하자!\n",
    "        if dot == '1':\n",
    "            search(h_idx, d_idx)\n",
    "            \n",
    "print(home_map)"
   ]
  },
  {
   "cell_type": "code",
   "execution_count": null,
   "metadata": {},
   "outputs": [],
   "source": []
  }
 ],
 "metadata": {
  "kernelspec": {
   "display_name": "Python 3",
   "language": "python",
   "name": "python3"
  },
  "language_info": {
   "codemirror_mode": {
    "name": "ipython",
    "version": 3
   },
   "file_extension": ".py",
   "mimetype": "text/x-python",
   "name": "python",
   "nbconvert_exporter": "python",
   "pygments_lexer": "ipython3",
   "version": "3.7.5"
  }
 },
 "nbformat": 4,
 "nbformat_minor": 2
}
