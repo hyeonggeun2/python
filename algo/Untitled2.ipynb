{
 "cells": [
  {
   "cell_type": "code",
   "execution_count": 10,
   "metadata": {},
   "outputs": [
    {
     "name": "stdout",
     "output_type": "stream",
     "text": [
      "2 3\n",
      "1 2 4\n",
      "8 16 32\n",
      "3\n",
      "1 1 2 3\n",
      "63\n",
      "1 2 1 2\n",
      "2\n",
      "1 3 2 3\n",
      "36\n"
     ]
    }
   ],
   "source": [
    "N, M = map(int, input().split())\n",
    "\n",
    "DP = [[0 for i in range(M+1)] for j in range(N+1)]\n",
    "\n",
    "A = [list(map(int, input().split())) for i in range(N)]\n",
    "\n",
    "for i in range(1, N+1):\n",
    "    for j in range(1, M+1):\n",
    "        DP[i][j] = DP[i-1][j] + DP[i][j-1] - DP[i-1][j-1] + A[i-1][j-1]\n",
    "\n",
    "K = int(input())\n",
    "for i in range(K):\n",
    "    i, j, x, y = map(int, input().split())\n",
    "    print(DP[x][y] - DP[i-1][y] - DP[x][j-1] + DP[i-1][j-1])"
   ]
  },
  {
   "cell_type": "code",
   "execution_count": 20,
   "metadata": {},
   "outputs": [
    {
     "name": "stdout",
     "output_type": "stream",
     "text": [
      "6\n",
      "10\n",
      "20\n",
      "15\n",
      "25\n",
      "10\n",
      "20\n",
      "75\n"
     ]
    }
   ],
   "source": [
    "N = int(input())\n",
    "A = [int(input()) for i in range(N)]\n",
    "\n",
    "DP = [[0 for i in range(N+1)] for j in range(2)]\n",
    "DP[0][1] = A[0]\n",
    "\n",
    "for i in range(2, N+1):\n",
    "    DP[0][i] = max(DP[0][i-2], DP[1][i-2]) + A[i-1]\n",
    "    DP[1][i] = DP[0][i-1] + A[i-1]\n",
    "    \n",
    "print(max(DP[0][N], DP[1][N]))"
   ]
  },
  {
   "cell_type": "code",
   "execution_count": 33,
   "metadata": {},
   "outputs": [
    {
     "name": "stdout",
     "output_type": "stream",
     "text": [
      "10 500\n",
      "93 181 245 214 315 36 185 138 216 295\n",
      "497\n"
     ]
    }
   ],
   "source": [
    "from itertools import product\n",
    "\n",
    "N, limit = map(int, input().split())\n",
    "A = list(map(int, input().split()))\n",
    "\n",
    "DP = []\n",
    "\n",
    "for case in product(A, A, A):\n",
    "    sum = 0\n",
    "    if len(set(case)) != 3 : continue\n",
    "    for i in range(3):\n",
    "        sum += case[i]\n",
    "    if sum <= limit:\n",
    "        DP.append(sum)\n",
    "\n",
    "print(max(list(set(DP))))"
   ]
  },
  {
   "cell_type": "code",
   "execution_count": null,
   "metadata": {},
   "outputs": [],
   "source": []
  }
 ],
 "metadata": {
  "kernelspec": {
   "display_name": "Python 3",
   "language": "python",
   "name": "python3"
  },
  "language_info": {
   "codemirror_mode": {
    "name": "ipython",
    "version": 3
   },
   "file_extension": ".py",
   "mimetype": "text/x-python",
   "name": "python",
   "nbconvert_exporter": "python",
   "pygments_lexer": "ipython3",
   "version": "3.7.5"
  }
 },
 "nbformat": 4,
 "nbformat_minor": 2
}
