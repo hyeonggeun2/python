{
 "cells": [
  {
   "cell_type": "code",
   "execution_count": null,
   "metadata": {},
   "outputs": [],
   "source": [
    "# import sys\n",
    "# input = sys.stdin.readline\n",
    "\n",
    "N = int(input())\n",
    "stk = []\n",
    "\n",
    "for _ in range(N):\n",
    "    cmd = input().split()\n",
    "    if cmd[0] == 'push':\n",
    "        stk.append(cmd[1])\n",
    "    if cmd[0] == 'pop':\n",
    "        print(stk.pop() if len(stk) else -1)    \n",
    "    if cmd[0] == 'size':\n",
    "        print(len(stk))\n",
    "    if cmd[0] == 'empty':\n",
    "        print(int(len(stk) == 0))\n",
    "    if cmd[0] == 'top':\n",
    "        print(stk[-1] if len(stk) else -1)"
   ]
  },
  {
   "cell_type": "code",
   "execution_count": null,
   "metadata": {},
   "outputs": [],
   "source": [
    "# import sys\n",
    "# input = sys.stdin.readline\n",
    "\n",
    "N = int(input())\n",
    "que = []\n",
    "\n",
    "for _ in range(N):\n",
    "    cmd = input().split()\n",
    "    if cmd[0] == 'push':\n",
    "        que.append(cmd[1])\n",
    "    if cmd[0] == 'pop':\n",
    "        print(que.pop(0) if len(que) else -1)    \n",
    "    if cmd[0] == 'size':\n",
    "        print(len(que))\n",
    "    if cmd[0] == 'empty':\n",
    "        print(int(len(que) == 0))\n",
    "    if cmd[0] == 'front':\n",
    "        print(que[0] if len(que) else -1)\n",
    "    if cmd[0] == 'back':\n",
    "        print(que[-1] if len(que) else -1)"
   ]
  },
  {
   "cell_type": "code",
   "execution_count": null,
   "metadata": {
    "scrolled": false
   },
   "outputs": [],
   "source": [
    "# import sys\n",
    "from collections import deque\n",
    "# input = sys.stdin.readline\n",
    "\n",
    "N = int(input())\n",
    "que = deque()\n",
    "\n",
    "for _ in range(N):\n",
    "    cmd = input().split()\n",
    "    \n",
    "    if cmd[0] == 'push_front':\n",
    "        que.appendleft(cmd[1])\n",
    "    if cmd[0] == 'push_back':\n",
    "        que.append(cmd[1])\n",
    "    if cmd[0] == 'pop_front':\n",
    "        print(que.popleft() if len(que) else -1)\n",
    "    if cmd[0] == 'pop_back':\n",
    "        print(que.pop() if len(que) else -1)\n",
    "    if cmd[0] == 'size':\n",
    "        print(len(que))\n",
    "    if cmd[0] == 'empty':\n",
    "        print(int(len(que) == 0))\n",
    "    if cmd[0] == 'front':\n",
    "        print(que[0] if len(que) else -1)\n",
    "    if cmd[0] == 'back':\n",
    "        print(que[-1] if len(que) else -1)"
   ]
  },
  {
   "cell_type": "code",
   "execution_count": 5,
   "metadata": {},
   "outputs": [
    {
     "name": "stdout",
     "output_type": "stream",
     "text": [
      "0 100000\n",
      "22\n"
     ]
    }
   ],
   "source": [
    "from collections import deque\n",
    "N, K = map(int, input().split())\n",
    "\n",
    "ck = [-1 for _ in range(200000)]\n",
    "q = deque()\n",
    "\n",
    "ck[N] = 0\n",
    "q.append(N)\n",
    "\n",
    "while len(q) > 0:\n",
    "    front = q.popleft()\n",
    "    if front == K:\n",
    "        print(ck[K])\n",
    "        break\n",
    "    # 체크가 되어있지 않은 것\n",
    "    if front-1 >= 0 and ck[front-1] == -1:\n",
    "        ck[front-1] = ck[front] + 1\n",
    "        q.append(front-1)\n",
    "    if front+1 < len(ck) and ck[front+1] == -1:\n",
    "        ck[front+1] = ck[front] + 1\n",
    "        q.append(front+1)\n",
    "    if front*2 < len(ck) and ck[front*2] == -1:\n",
    "        ck[front*2] = ck[front] + 1\n",
    "        q.append(front*2)\n",
    "    "
   ]
  },
  {
   "cell_type": "code",
   "execution_count": 12,
   "metadata": {},
   "outputs": [
    {
     "name": "stdout",
     "output_type": "stream",
     "text": [
      "45\n",
      "1134903170\n"
     ]
    }
   ],
   "source": [
    "N = int(input())\n",
    "DP = [0 for _ in range(50)]\n",
    "DP[1] = 1\n",
    "\n",
    "for i in range(2, N+1):\n",
    "    DP[i] = DP[i-1] + DP[i-2]\n",
    "    \n",
    "print(DP[N])"
   ]
  },
  {
   "cell_type": "code",
   "execution_count": 14,
   "metadata": {},
   "outputs": [
    {
     "name": "stdout",
     "output_type": "stream",
     "text": [
      "2 3\n",
      "1 2 4\n",
      "8 16 32\n",
      "3\n",
      "1 1 2 3\n",
      "0\n",
      "1 2 1 2\n",
      "0\n",
      "1 3 2 3\n",
      "0\n"
     ]
    }
   ],
   "source": [
    "N, M = map(int, input().split())\n",
    "\n",
    "A = [list(map(int, input().split())) for _ in range(N)]\n",
    "DP = [[0 for i in range(M+1)] for j in range(N+1)]\n",
    "\n",
    "for i in range(1, N+1):\n",
    "    for j in range(1, M+1):\n",
    "        DP[i][j] = DP[i-1][j] + DP[i][j-1] - DP[i-1][j-1]\n",
    "\n",
    "K = int(input())\n",
    "for _ in range(K):\n",
    "    i, j, x, y = map(int, input().split())\n",
    "    print(DP[x][y] - DP[i-1][y] - DP[x][j-1] + DP[i-1][j-1])"
   ]
  },
  {
   "cell_type": "code",
   "execution_count": null,
   "metadata": {},
   "outputs": [],
   "source": []
  }
 ],
 "metadata": {
  "kernelspec": {
   "display_name": "Python 3",
   "language": "python",
   "name": "python3"
  },
  "language_info": {
   "codemirror_mode": {
    "name": "ipython",
    "version": 3
   },
   "file_extension": ".py",
   "mimetype": "text/x-python",
   "name": "python",
   "nbconvert_exporter": "python",
   "pygments_lexer": "ipython3",
   "version": "3.7.5"
  }
 },
 "nbformat": 4,
 "nbformat_minor": 2
}
