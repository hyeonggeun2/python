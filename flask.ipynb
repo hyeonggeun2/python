{
 "cells": [
  {
   "cell_type": "code",
   "execution_count": 1,
   "metadata": {},
   "outputs": [],
   "source": [
    "# pdj1224@gmail.com"
   ]
  },
  {
   "cell_type": "code",
   "execution_count": 3,
   "metadata": {},
   "outputs": [
    {
     "name": "stdout",
     "output_type": "stream",
     "text": [
      "Collecting flask\n",
      "\u001b[?25l  Downloading https://files.pythonhosted.org/packages/9b/93/628509b8d5dc749656a9641f4caf13540e2cdec85276964ff8f43bbb1d3b/Flask-1.1.1-py2.py3-none-any.whl (94kB)\n",
      "\u001b[K     |████████████████████████████████| 102kB 494kB/s ta 0:00:01\n",
      "\u001b[?25hRequirement already satisfied: Jinja2>=2.10.1 in /home/hg/.pyenv/versions/3.7.5/envs/fc-python-env/lib/python3.7/site-packages (from flask) (2.10.3)\n",
      "Collecting click>=5.1\n",
      "\u001b[?25l  Downloading https://files.pythonhosted.org/packages/fa/37/45185cb5abbc30d7257104c434fe0b07e5a195a6847506c074527aa599ec/Click-7.0-py2.py3-none-any.whl (81kB)\n",
      "\u001b[K     |████████████████████████████████| 81kB 3.3MB/s eta 0:00:01\n",
      "\u001b[?25hCollecting Werkzeug>=0.15\n",
      "\u001b[?25l  Downloading https://files.pythonhosted.org/packages/ce/42/3aeda98f96e85fd26180534d36570e4d18108d62ae36f87694b476b83d6f/Werkzeug-0.16.0-py2.py3-none-any.whl (327kB)\n",
      "\u001b[K     |████████████████████████████████| 327kB 2.2MB/s eta 0:00:01\n",
      "\u001b[?25hCollecting itsdangerous>=0.24\n",
      "  Downloading https://files.pythonhosted.org/packages/76/ae/44b03b253d6fade317f32c24d100b3b35c2239807046a4c953c7b89fa49e/itsdangerous-1.1.0-py2.py3-none-any.whl\n",
      "Requirement already satisfied: MarkupSafe>=0.23 in /home/hg/.pyenv/versions/3.7.5/envs/fc-python-env/lib/python3.7/site-packages (from Jinja2>=2.10.1->flask) (1.1.1)\n",
      "Installing collected packages: click, Werkzeug, itsdangerous, flask\n",
      "Successfully installed Werkzeug-0.16.0 click-7.0 flask-1.1.1 itsdangerous-1.1.0\n"
     ]
    }
   ],
   "source": [
    "! pip install flask"
   ]
  },
  {
   "cell_type": "code",
   "execution_count": 4,
   "metadata": {},
   "outputs": [],
   "source": [
    "!mkdir hello\n",
    "!mkdir -p hello/static\n",
    "!mkdir -p hello/templates\n",
    "!touch hello/hello.py\n",
    "!touch hello/templates/index.html"
   ]
  },
  {
   "cell_type": "code",
   "execution_count": null,
   "metadata": {},
   "outputs": [],
   "source": [
    "!tree hello"
   ]
  },
  {
   "cell_type": "code",
   "execution_count": 14,
   "metadata": {},
   "outputs": [
    {
     "name": "stdout",
     "output_type": "stream",
     "text": [
      "\u001b[01;34mhello\u001b[00m\r\n",
      "├── hello.py\r\n",
      "├── \u001b[01;34mstatic\u001b[00m\r\n",
      "└── \u001b[01;34mtemplates\u001b[00m\r\n",
      "    ├── index.hrml\r\n",
      "    └── index.html\r\n",
      "\r\n",
      "2 directories, 3 files\r\n"
     ]
    },
    {
     "name": "stderr",
     "output_type": "stream",
     "text": [
      "UsageError: Line magic function `%%writefile` not found.\n"
     ]
    }
   ],
   "source": [
    "%%writefile hello/hello.py\n",
    "from flask import *\n",
    "\n",
    "app = Flask(__name__)\n",
    "\n",
    "@app.route(\"/\")\n",
    "def hello():\n",
    "    return \"Hello Flask\"\n",
    "\n",
    "@app.route(\"/apis/user\")\n",
    "def user_data():\n",
    "    data = {\"name\":\"andy\", \"age\":30}\n",
    "    return jsonify(data)\n",
    "\n",
    "@app.route(\"/user/<username>\")\n",
    "def user(username):\n",
    "    return render_template('index.html', name=username)\n",
    "\n",
    "app.run()"
   ]
  },
  {
   "cell_type": "code",
   "execution_count": 6,
   "metadata": {},
   "outputs": [
    {
     "name": "stdout",
     "output_type": "stream",
     "text": [
      "Overwriting hello/templates/index.html\n"
     ]
    }
   ],
   "source": [
    "%%writefile hello/templates/index.html\n",
    "<!DOCTYPE html>\n",
    "<html>\n",
    "<head>\n",
    "</head>\n",
    "<body>\n",
    "Hello {{ name }}\n",
    "</body>\n",
    "</html>"
   ]
  },
  {
   "cell_type": "code",
   "execution_count": null,
   "metadata": {},
   "outputs": [
    {
     "name": "stdout",
     "output_type": "stream",
     "text": [
      " * Serving Flask app \"hello\" (lazy loading)\n",
      " * Environment: production\n",
      "\u001b[31m   WARNING: This is a development server. Do not use it in a production deployment.\u001b[0m\n",
      "\u001b[2m   Use a production WSGI server instead.\u001b[0m\n",
      " * Debug mode: off\n",
      " * Running on http://127.0.0.1:5000/ (Press CTRL+C to quit)\n",
      "127.0.0.1 - - [13/Jan/2020 16:22:44] \"GET / HTTP/1.1\" 200 -\n",
      "127.0.0.1 - - [13/Jan/2020 16:22:49] \"GET /apis/user HTTP/1.1\" 404 -\n",
      "127.0.0.1 - - [13/Jan/2020 16:26:00] \"GET / HTTP/1.1\" 200 -\n",
      "127.0.0.1 - - [13/Jan/2020 16:26:03] \"GET / HTTP/1.1\" 200 -\n",
      "127.0.0.1 - - [13/Jan/2020 16:26:08] \"GET /apis/user HTTP/1.1\" 404 -\n",
      "127.0.0.1 - - [13/Jan/2020 16:26:19] \"GET /user/hyeonggeun HTTP/1.1\" 200 -\n",
      "127.0.0.1 - - [13/Jan/2020 16:27:37] \"GET /apis/user HTTP/1.1\" 404 -\n",
      "127.0.0.1 - - [13/Jan/2020 16:36:20] \"GET / HTTP/1.1\" 200 -\n",
      "127.0.0.1 - - [13/Jan/2020 16:36:46] \"GET /user/hyeonggeun HTTP/1.1\" 200 -\n",
      "127.0.0.1 - - [13/Jan/2020 16:36:52] \"GET /apis/user HTTP/1.1\" 404 -\n",
      "127.0.0.1 - - [13/Jan/2020 16:36:53] \"GET /apis/users HTTP/1.1\" 404 -\n",
      "127.0.0.1 - - [13/Jan/2020 16:38:26] \"GET / HTTP/1.1\" 200 -\n",
      "127.0.0.1 - - [13/Jan/2020 16:38:27] \"GET / HTTP/1.1\" 200 -\n",
      "127.0.0.1 - - [13/Jan/2020 16:41:29] \"GET / HTTP/1.1\" 200 -\n",
      "127.0.0.1 - - [13/Jan/2020 16:41:29] \"GET /favicon.ico HTTP/1.1\" 404 -\n",
      "127.0.0.1 - - [13/Jan/2020 16:42:26] \"GET /apis/user HTTP/1.1\" 404 -\n",
      "127.0.0.1 - - [13/Jan/2020 16:44:25] \"GET / HTTP/1.1\" 200 -\n"
     ]
    }
   ],
   "source": [
    "!python hello/hello.py"
   ]
  },
  {
   "cell_type": "code",
   "execution_count": null,
   "metadata": {},
   "outputs": [],
   "source": []
  }
 ],
 "metadata": {
  "kernelspec": {
   "display_name": "Python 3",
   "language": "python",
   "name": "python3"
  },
  "language_info": {
   "codemirror_mode": {
    "name": "ipython",
    "version": 3
   },
   "file_extension": ".py",
   "mimetype": "text/x-python",
   "name": "python",
   "nbconvert_exporter": "python",
   "pygments_lexer": "ipython3",
   "version": "3.7.5"
  }
 },
 "nbformat": 4,
 "nbformat_minor": 2
}
