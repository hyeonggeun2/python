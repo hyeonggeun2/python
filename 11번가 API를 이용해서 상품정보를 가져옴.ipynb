{
 "cells": [
  {
   "cell_type": "code",
   "execution_count": 1,
   "metadata": {},
   "outputs": [],
   "source": [
    "import requests\n",
    "import xmltodict\n",
    "import math"
   ]
  },
  {
   "cell_type": "code",
   "execution_count": 2,
   "metadata": {},
   "outputs": [],
   "source": [
    "key = '536b3cc00faee9ea7411be0f665c9adf'\n",
    "\n",
    "# 동적으로 변할 값들.\n",
    "keyword = '연필'\n",
    "  # CP : 인기도순 / A : 누적판매순 / G : 평가높은순 / I : 후기, 리뷰순 \n",
    "  # L : 낮은가격순 / H : 높은가격순 / N : 최근등록순\n",
    "sortCd = 'I'\n",
    "pageNum = '1'\n",
    "productCode = '1307262727'\n",
    "\n",
    "listSearchApi = {\n",
    "    'key': key,\n",
    "    'apiCode': 'ProductSearch',\n",
    "    'keyword': keyword,\n",
    "    'pageSize': '50',\n",
    "    'pageNum': pageNum,\n",
    "    # 정렬순서를 정할 수 있음\n",
    "    'sortCd': sortCd,\n",
    "}\n",
    "\n",
    "productInfoApi = {\n",
    "    'key': key,\n",
    "    'apiCode': 'ProductInfo',\n",
    "    # 상세한 정보를 알아볼 상품의 고유번호\n",
    "    'productCode': productCode,\n",
    "    'option': 'PdOption',\n",
    "}"
   ]
  },
  {
   "cell_type": "code",
   "execution_count": 3,
   "metadata": {},
   "outputs": [],
   "source": [
    "sourceUrl = 'http://openapi.11st.co.kr/openapi/OpenApiService.tmall?{options}'\n",
    "\n",
    "listUrl = sourceUrl.format(\n",
    "    options='&'.join([\n",
    "        f'{key}={value}' for key, value in listSearchApi.items()\n",
    "    ])\n",
    ")\n",
    "\n",
    "infoUrl = sourceUrl.format(\n",
    "    options='&'.join([\n",
    "        f'{key}={value}' for key, value in productInfoApi.items()\n",
    "    ])\n",
    ")"
   ]
  },
  {
   "cell_type": "code",
   "execution_count": 6,
   "metadata": {},
   "outputs": [],
   "source": [
    "# 여러상품의 정보를 뽑아올 때\n",
    "xml_data = requests.get(listUrl).text\n",
    "data = xmltodict.parse(xml_data)\n",
    "products = data['ProductSearchResponse']['Products']['Product']\n",
    "\n",
    "# for product in products:\n",
    "#     print('상품명:', product['ProductName'])\n",
    "#     print('할인율:', f\"{math.floor(int(product['Benefit']['Discount']) / int(product['ProductPrice']) * 100)}%\")\n",
    "#     print('가격:', f\"{product['SalePrice']}원\")\n",
    "#     print('리뷰:', f\"{product['ReviewCount']}개 /\", f\"만족도: {product['BuySatisfy']}%\")\n",
    "#     print('배송:', product['Delivery'])\n",
    "#     print('상품코드:', product['ProductCode'])\n",
    "#     print('')"
   ]
  },
  {
   "cell_type": "code",
   "execution_count": 7,
   "metadata": {},
   "outputs": [],
   "source": [
    "# 한 상품의 상세옵션들을 뽑아올 때\n",
    "xml_detail = requests.get(infoUrl).text\n",
    "detail = xmltodict.parse(xml_detail)\n",
    "options = detail['ProductInfoResponse']['ProductOption']['OptionList']['Option']['ValueList']['Value']\n",
    "\n",
    "# for option in options:\n",
    "#     print(option['ValueName'])\n",
    "#     print(option['Price'])"
   ]
  },
  {
   "cell_type": "code",
   "execution_count": null,
   "metadata": {},
   "outputs": [],
   "source": []
  }
 ],
 "metadata": {
  "kernelspec": {
   "display_name": "Python 3",
   "language": "python",
   "name": "python3"
  },
  "language_info": {
   "codemirror_mode": {
    "name": "ipython",
    "version": 3
   },
   "file_extension": ".py",
   "mimetype": "text/x-python",
   "name": "python",
   "nbconvert_exporter": "python",
   "pygments_lexer": "ipython3",
   "version": "3.7.5"
  }
 },
 "nbformat": 4,
 "nbformat_minor": 2
}
