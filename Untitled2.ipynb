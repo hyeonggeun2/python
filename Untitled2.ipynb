{
 "cells": [
  {
   "cell_type": "code",
   "execution_count": 3,
   "metadata": {},
   "outputs": [],
   "source": [
    "import requests"
   ]
  },
  {
   "cell_type": "code",
   "execution_count": 16,
   "metadata": {},
   "outputs": [],
   "source": [
    "param = {\n",
    "    'query': '서울특별시 성동구 성수동2가 300-1',\n",
    "}\n",
    "header = {\n",
    "    'X-NCP-APIGW-API-KEY-ID': 'lbzlb3algi',\n",
    "    'X-NCP-APIGW-API-KEY': 'UjwPAw2nA123bslejXIWZZng9qQ3NVIcaOaDNjar',\n",
    "}\n",
    "url = 'https://naveropenapi.apigw.ntruss.com/map-geocode/v2/geocode?'\n",
    "response = requests.get(url, params=param, headers=header)\n",
    "json = response.json()"
   ]
  },
  {
   "cell_type": "code",
   "execution_count": 17,
   "metadata": {},
   "outputs": [
    {
     "data": {
      "text/plain": [
       "{'status': 'OK',\n",
       " 'meta': {'totalCount': 1, 'page': 1, 'count': 1},\n",
       " 'addresses': [{'roadAddress': '서울특별시 성동구 아차산로 113 삼진빌딩',\n",
       "   'jibunAddress': '서울특별시 성동구 성수동2가 300-1 삼진빌딩',\n",
       "   'englishAddress': '113, Achasan-ro, Seongdong-gu, Seoul, Republic of Korea',\n",
       "   'addressElements': [{'types': ['SIDO'],\n",
       "     'longName': '서울특별시',\n",
       "     'shortName': '서울특별시',\n",
       "     'code': ''},\n",
       "    {'types': ['SIGUGUN'], 'longName': '성동구', 'shortName': '성동구', 'code': ''},\n",
       "    {'types': ['DONGMYUN'],\n",
       "     'longName': '성수동2가',\n",
       "     'shortName': '성수동2가',\n",
       "     'code': ''},\n",
       "    {'types': ['RI'], 'longName': '', 'shortName': '', 'code': ''},\n",
       "    {'types': ['ROAD_NAME'],\n",
       "     'longName': '아차산로',\n",
       "     'shortName': '아차산로',\n",
       "     'code': ''},\n",
       "    {'types': ['BUILDING_NUMBER'],\n",
       "     'longName': '113',\n",
       "     'shortName': '113',\n",
       "     'code': ''},\n",
       "    {'types': ['BUILDING_NAME'],\n",
       "     'longName': '삼진빌딩',\n",
       "     'shortName': '삼진빌딩',\n",
       "     'code': ''},\n",
       "    {'types': ['LAND_NUMBER'],\n",
       "     'longName': '300-1',\n",
       "     'shortName': '300-1',\n",
       "     'code': ''},\n",
       "    {'types': ['POSTAL_CODE'],\n",
       "     'longName': '04794',\n",
       "     'shortName': '04794',\n",
       "     'code': ''}],\n",
       "   'x': '127.0570110',\n",
       "   'y': '37.5446811',\n",
       "   'distance': 0.0}],\n",
       " 'errorMessage': ''}"
      ]
     },
     "execution_count": 17,
     "metadata": {},
     "output_type": "execute_result"
    }
   ],
   "source": [
    "json"
   ]
  },
  {
   "cell_type": "code",
   "execution_count": null,
   "metadata": {},
   "outputs": [],
   "source": []
  }
 ],
 "metadata": {
  "kernelspec": {
   "display_name": "Python 3",
   "language": "python",
   "name": "python3"
  },
  "language_info": {
   "codemirror_mode": {
    "name": "ipython",
    "version": 3
   },
   "file_extension": ".py",
   "mimetype": "text/x-python",
   "name": "python",
   "nbconvert_exporter": "python",
   "pygments_lexer": "ipython3",
   "version": "3.7.5"
  }
 },
 "nbformat": 4,
 "nbformat_minor": 2
}
