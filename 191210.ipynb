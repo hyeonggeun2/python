{
 "cells": [
  {
   "cell_type": "code",
   "execution_count": 1,
   "metadata": {},
   "outputs": [],
   "source": [
    "from bs4 import BeautifulSoup\n",
    "import requests\n",
    "import re"
   ]
  },
  {
   "cell_type": "code",
   "execution_count": 51,
   "metadata": {},
   "outputs": [],
   "source": [
    "class Webtoon:\n",
    "    URL_EPISODE_LIST = 'https://comic.naver.com/webtoon/list.nhn?titleId={id}' # 클래스 변수\n",
    "    URL_WEBTOON_LIST = 'https://comic.naver.com/webtoon/weekday.nhn'\n",
    "    WEBTOON_LIST_HTML = None\n",
    "    \n",
    "    def __init__(self, id, url_thumbnail, title):\n",
    "        self.id = id\n",
    "        self.url_thumbnail = url_thumbnail\n",
    "        self.title = title\n",
    "        \n",
    "        self.author = None\n",
    "        self.description = None\n",
    "        self.genres = None\n",
    "        self.age = None\n",
    "    \n",
    "    def __repr__(self):\n",
    "        return f'Webtoon({self.title}, {self.id})'\n",
    "    \n",
    "    def get_detail_info(self):\n",
    "        new_url = Webtoon.URL_EPISODE_LIST.format(id = self.id)\n",
    "        response = requests.get(new_url)\n",
    "        html = response.text\n",
    "        soup = BeautifulSoup(html)\n",
    "        details = \n",
    "        self.author = '유미'\n",
    "        \n",
    "    def show_info(self):\n",
    "        print(self.id, self.url_thumbnail, self.title, self.author)\n",
    "    \n",
    "    @classmethod\n",
    "    def search(cls, keyword):\n",
    "        if not cls.WEBTOON_LIST_HTML:\n",
    "            response = requests.get(cls.URL_WEBTOON_LIST)\n",
    "            cls.WEBTOON_LIST_HTML = response.text\n",
    "        \n",
    "        soup = BeautifulSoup(cls.WEBTOON_LIST_HTML)\n",
    "        css_selector = 'a.title[title*=\"{}\"]'.format(keyword)\n",
    "        a_list = soup.select(css_selector)\n",
    "        \n",
    "        results = []\n",
    "        for a in a_list:\n",
    "            href = a['href']\n",
    "            m = re.search(r'titleId=(\\d+)', href)\n",
    "            title_id = m.group(1)\n",
    "            thumbnail = a.parent.select_one('img')['src']\n",
    "            title = a.get_text(strip=True)\n",
    "            cur_info = {\n",
    "                'title': title,\n",
    "                'title_id': title_id,\n",
    "                'link': href,\n",
    "                'thumbnail': thumbnail,\n",
    "            }\n",
    "            results.append(cur_info)\n",
    "            \n",
    "        print('# 검색결과')\n",
    "        for index, result in enumerate(results, start=1):\n",
    "            print(f'{index}: {result[\"title\"]}')\n",
    "        \n",
    "        choice = int(input('> 선택: '))\n",
    "        selected = results[choice - 1]\n",
    "        instance =  cls(\n",
    "            id = selected['title_id'],\n",
    "            title = selected['title'],\n",
    "            url_thumbnail = selected['thumbnail'],\n",
    "        )\n",
    "        \n",
    "        return instance\n",
    "        \n",
    "    @property\n",
    "    def link(self):\n",
    "        return self.URL_EPISODE.LIST.format(id = self.id)\n",
    "    \n",
    "    def get_episode_list(self):\n",
    "        pass\n",
    "    \n",
    "class Episode:\n",
    "    def __init__(self, title, rating, data):\n",
    "        self.title = title\n",
    "        self.rating = ratring\n",
    "        self.data = data"
   ]
  },
  {
   "cell_type": "code",
   "execution_count": 53,
   "metadata": {},
   "outputs": [
    {
     "name": "stdout",
     "output_type": "stream",
     "text": [
      "# 검색결과\n",
      "1: 유일무이 로맨스\n",
      "2: 윌유메리미\n",
      "3: 유미의 세포들\n",
      "4: 유미의 세포들\n",
      "5: 윌유메리미\n",
      "6: 공유몽\n",
      "7: 유령극단\n",
      "> 선택: 3\n",
      "651673 https://shared-comic.pstatic.net/thumb/webtoon/651673/thumbnail/thumbnail_IMAG10_659b9446-0940-494a-bb5f-5893290a84d0.jpg 유미의 세포들 None\n",
      "651673 https://shared-comic.pstatic.net/thumb/webtoon/651673/thumbnail/thumbnail_IMAG10_659b9446-0940-494a-bb5f-5893290a84d0.jpg 유미의 세포들 유미\n"
     ]
    }
   ],
   "source": [
    "yumi = Webtoon.search('유')\n",
    "yumi.show_info()\n",
    "yumi.get_detail_info()\n",
    "yumi.show_info()"
   ]
  },
  {
   "cell_type": "code",
   "execution_count": 18,
   "metadata": {},
   "outputs": [
    {
     "name": "stdout",
     "output_type": "stream",
     "text": [
      "# 검색결과\n",
      "1: 신의 탑\n",
      "2: 신을 죽이는 방법\n",
      "3: 여신강림\n",
      "4: 신도림\n",
      "5: 사신소년\n",
      "6: 신의 언어\n",
      "7: 참새는 새!신부\n",
      "8: 신석기녀\n",
      "9: 신선비\n",
      "10: 귀신이지만 사랑하고 싶어\n",
      "11: 괴물신부\n",
      "12: 위험한 신입사원\n",
      "> 선택: 1\n"
     ]
    },
    {
     "data": {
      "text/plain": [
       "Webtoon(신의 탑, 183559)"
      ]
     },
     "execution_count": 18,
     "metadata": {},
     "output_type": "execute_result"
    }
   ],
   "source": [
    "shin = Webtoon.search('신')\n",
    "shin"
   ]
  },
  {
   "cell_type": "code",
   "execution_count": null,
   "metadata": {},
   "outputs": [],
   "source": []
  }
 ],
 "metadata": {
  "kernelspec": {
   "display_name": "Python 3",
   "language": "python",
   "name": "python3"
  },
  "language_info": {
   "codemirror_mode": {
    "name": "ipython",
    "version": 3
   },
   "file_extension": ".py",
   "mimetype": "text/x-python",
   "name": "python",
   "nbconvert_exporter": "python",
   "pygments_lexer": "ipython3",
   "version": "3.7.5"
  }
 },
 "nbformat": 4,
 "nbformat_minor": 2
}
