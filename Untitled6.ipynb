{
 "cells": [
  {
   "cell_type": "code",
   "execution_count": 10,
   "metadata": {},
   "outputs": [
    {
     "name": "stdout",
     "output_type": "stream",
     "text": [
      "3705072\n"
     ]
    }
   ],
   "source": [
    "import threading, os\n",
    "\n",
    "g_count = 0\n",
    "def thread_main():\n",
    "    global g_count\n",
    "    lock.acquire()\n",
    "    for i in range(100000):\n",
    "        g_count = g_count + 1\n",
    "    lock.release()\n",
    "    \n",
    "lock = threading.Semaphore(2)        \n",
    "threads = []\n",
    "for i in range(50):\n",
    "    th = threading.Thread(target=thread_main)\n",
    "    threads.append(th)\n",
    "    \n",
    "for th in threads:\n",
    "    th.start()\n",
    "    \n",
    "for th in threads:\n",
    "    th.join()\n",
    "    \n",
    "print(g_count)"
   ]
  },
  {
   "cell_type": "code",
   "execution_count": null,
   "metadata": {},
   "outputs": [],
   "source": []
  }
 ],
 "metadata": {
  "kernelspec": {
   "display_name": "Python 3",
   "language": "python",
   "name": "python3"
  },
  "language_info": {
   "codemirror_mode": {
    "name": "ipython",
    "version": 3
   },
   "file_extension": ".py",
   "mimetype": "text/x-python",
   "name": "python",
   "nbconvert_exporter": "python",
   "pygments_lexer": "ipython3",
   "version": "3.7.5"
  }
 },
 "nbformat": 4,
 "nbformat_minor": 2
}
