{
 "cells": [
  {
   "cell_type": "code",
   "execution_count": 1,
   "metadata": {},
   "outputs": [],
   "source": [
    "import re\n",
    "import requests\n",
    "from bs4 import BeautifulSoup"
   ]
  },
  {
   "cell_type": "code",
   "execution_count": 2,
   "metadata": {},
   "outputs": [],
   "source": [
    "# url = f'https://comic.naver.com/webtoon/list.nhn?titleId={title_id}' # 타이틀ID를 넣어서 사용할 URL\n",
    "url = 'https://comic.naver.com/webtoon/weekday.nhn'# 전체 웹툰\n",
    "response = requests.get(url)\n",
    "html = response.text\n",
    "soup = BeautifulSoup(html)"
   ]
  },
  {
   "cell_type": "code",
   "execution_count": 3,
   "metadata": {},
   "outputs": [],
   "source": [
    "webtoon_info_dict = {} # 타이틀과 타이틀 아이디를 저장할 딕셔너리\n",
    "\n",
    "# 필요한 값을 얻어서 web_info_dict에 저장\n",
    "def get_title_info():\n",
    "    for img in soup.select('div.thumb img[title]'):\n",
    "        src = img['src']\n",
    "        title_id = re.findall('.*?webtoon/(\\d+)/thumbnail.*?', src)\n",
    "        title_name = img['title']\n",
    "        webtoon_info_dict[title_name] = title_id[0]\n",
    "#     print(webtoon_info_dict) # 제대로 들어갔나 출력\n",
    "\n",
    "# 상세 설명을 나타낼 함수\n",
    "def wetoon_info(title):\n",
    "    result_list = [] # 형은 원래 딕셔너리로 받았었는데 입력받은 값을 인덱스로 확인하니까 리스트로 받는게 편할 것 같아서 리스트로 바꿨어요\n",
    "    \n",
    "    for key, value in webtoon_info_dict.items():\n",
    "        if title in key:\n",
    "            # 딕셔너리에서 리스트로 바꿨으니까 값을 추가할 때도 동적으로 추가되는게 아니라 append로 넣어줘야해요\n",
    "            # 넣어줄 때 key, value를 한 쌍으로 넣어줬어요\n",
    "            # '유'를 넣으면 [('유일무이 로맨스', '709731'), ('윌유메리미', '616239'), ('유미의 세포들', '651673') ... ]\n",
    "            result_list.append((key, value)) \n",
    "\n",
    "    # 그럼 key들의 값은 result_list의 [0][0] ,[1][0], [2][0], [3][0] ... 일거에요\n",
    "    # []에서 한 번 접근하고 ()에서 한 번 접근한다고 생각하시면 되요\n",
    "    # 이걸 for문을 이용해서 출력해볼게요\n",
    "    for i in range(len(result_list)):\n",
    "          # 이게 기본적인 출력이고, 원래는 앞에 숫자를 붙여서 출력해야해요\n",
    "#         print(result_list[i][0])\n",
    "        print(f'{i+1}. {result_list[i][0]}') # 자바스크립트의 문자열 인터폴레이션\n",
    "    \n",
    "    print('0. 이전') # 이전으로 가는 보기 추가\n",
    "    pin = input(\">숫자를 입력하세요\")\n",
    "    \n",
    "    # 이제 여기서 두번째로 확인해야해요\n",
    "    if pin == 0:\n",
    "        return # 아무동작 안하고\n",
    "    else:\n",
    "        # 인덱스가 알맞게 들어왔을 때\n",
    "        # 일단은 그에 해당하는 ID값을 출력 해 보세요\n",
    "        # 제가 리스트로 만들었으니까 result_list에 들어있을거에요\n",
    "        # result_list의 튜플 안에는 [0]에 타이틀 [1]에 타이틀 아이디가 있다고 생각하고 뽑아보세요\n",
    "        pass\n",
    "\n",
    "# 에피소드 목록을 나타낼 함수\n",
    "def episode_info():\n",
    "    pass"
   ]
  },
  {
   "cell_type": "code",
   "execution_count": null,
   "metadata": {},
   "outputs": [
    {
     "name": "stdout",
     "output_type": "stream",
     "text": [
      "## 웹툰 크롤러 ##\n",
      "1. 정보\n",
      "2. 에피소드 목록\n",
      "0. 나가기\n",
      "> 입력: 1\n",
      "\n",
      "웹툰 이름신\n",
      "1. 신의 탑\n",
      "2. 신을 죽이는 방법\n",
      "3. 여신강림\n",
      "4. 신도림\n",
      "5. 신의 언어\n",
      "6. 사신소년\n",
      "7. 참새는 새!신부\n",
      "8. 신석기녀\n",
      "9. 신선비\n",
      "10. 귀신이지만 사랑하고 싶어\n",
      "11. 괴물신부\n",
      "12. 위험한 신입사원\n",
      "0. 이전\n"
     ]
    }
   ],
   "source": [
    "menu = '''## 웹툰 크롤러 ##\n",
    "1. 정보\n",
    "2. 에피소드 목록\n",
    "0. 나가기'''\n",
    "\n",
    "while True:\n",
    "    print(menu)\n",
    "    case = input('> 입력: ')\n",
    "    print()\n",
    "\n",
    "    if case == '1':\n",
    "        get_title_info()\n",
    "        in_case = input('웹툰 이름')\n",
    "        wetoon_info(in_case)\n",
    "    elif case == '2':\n",
    "        get_title_info()\n",
    "        episode_info()\n",
    "    elif case == '0':\n",
    "        break\n",
    "    else:\n",
    "        print('다시 입력해주세요~')"
   ]
  },
  {
   "cell_type": "code",
   "execution_count": null,
   "metadata": {},
   "outputs": [],
   "source": []
  }
 ],
 "metadata": {
  "kernelspec": {
   "display_name": "Python 3",
   "language": "python",
   "name": "python3"
  },
  "language_info": {
   "codemirror_mode": {
    "name": "ipython",
    "version": 3
   },
   "file_extension": ".py",
   "mimetype": "text/x-python",
   "name": "python",
   "nbconvert_exporter": "python",
   "pygments_lexer": "ipython3",
   "version": "3.7.5"
  }
 },
 "nbformat": 4,
 "nbformat_minor": 2
}
