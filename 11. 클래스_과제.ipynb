{
 "cells": [
  {
   "cell_type": "code",
   "execution_count": 51,
   "metadata": {},
   "outputs": [],
   "source": [
    "class Pokemon:\n",
    "    POKEMON_LIST = []\n",
    "    \n",
    "    def __init__(self, name, type):\n",
    "        self.friends = []\n",
    "        self.name = name\n",
    "        self.type = type\n",
    "        self.__level = 1\n",
    "        Pokemon.POKEMON_LIST.append(self)\n",
    "        \n",
    "    def __repr__(self):\n",
    "        return f'{self.name} ({self.type})'\n",
    "        \n",
    "    @property\n",
    "    def level(self):\n",
    "        return self.__level\n",
    "    \n",
    "    def level_up(self):\n",
    "        self.__level += 1\n",
    "        \n",
    "    def add_friend(self, pokemon):\n",
    "        self.friends.append(pokemon)\n",
    "        pokemon.friends.append(self)\n",
    "        \n",
    "    def show_friends(self):\n",
    "        if len(self.friends) == 0:\n",
    "            print(f'{self.name}에게는 친구가 없습니다....')\n",
    "        else:\n",
    "            friends = ', '.join([pokemon.name for pokemon in self.friends])\n",
    "            print(f'{self.name}의 친구들: {friends} ({len(self.friends)}마리)')\n",
    "            \n",
    "    @classmethod\n",
    "    def show_total_pokemon(cls):\n",
    "        pokemon_count = len(cls.POKEMON_LIST)\n",
    "        if pokemon_count == 0:\n",
    "            print('포켓몬이 없습니다...')\n",
    "        else:\n",
    "            pokemons = ', '.join([pokemon.name for pokemon in cls.POKEMON_LIST])\n",
    "            print(f'전체 포켓몬: {pokemons} ({pokemon_count}마리)')"
   ]
  },
  {
   "cell_type": "code",
   "execution_count": 52,
   "metadata": {},
   "outputs": [
    {
     "name": "stdout",
     "output_type": "stream",
     "text": [
      "포켓몬이 없습니다...\n"
     ]
    }
   ],
   "source": [
    "Pokemon.show_total_pokemon()"
   ]
  },
  {
   "cell_type": "code",
   "execution_count": 53,
   "metadata": {},
   "outputs": [
    {
     "data": {
      "text/plain": [
       "1"
      ]
     },
     "execution_count": 53,
     "metadata": {},
     "output_type": "execute_result"
    }
   ],
   "source": [
    "pikachu = Pokemon(name='피카츄', type='전기')\n",
    "pikachu.level"
   ]
  },
  {
   "cell_type": "code",
   "execution_count": 54,
   "metadata": {},
   "outputs": [
    {
     "data": {
      "text/plain": [
       "2"
      ]
     },
     "execution_count": 54,
     "metadata": {},
     "output_type": "execute_result"
    }
   ],
   "source": [
    "pikachu.level_up()\n",
    "pikachu.level"
   ]
  },
  {
   "cell_type": "code",
   "execution_count": 55,
   "metadata": {},
   "outputs": [
    {
     "name": "stdout",
     "output_type": "stream",
     "text": [
      "피카츄에게는 친구가 없습니다....\n",
      "이브이에게는 친구가 없습니다....\n"
     ]
    }
   ],
   "source": [
    "butterfree = Pokemon(name='버터플', type='벌레')\n",
    "starmie = Pokemon(name='아쿠스타', type='물')\n",
    "eevee = Pokemon(name='이브이', type='노멀')\n",
    "pikachu.show_friends()\n",
    "eevee.show_friends()"
   ]
  },
  {
   "cell_type": "code",
   "execution_count": 56,
   "metadata": {},
   "outputs": [
    {
     "name": "stdout",
     "output_type": "stream",
     "text": [
      "피카츄의 친구들: 버터플, 아쿠스타 (2마리)\n",
      "아쿠스타의 친구들: 피카츄 (1마리)\n"
     ]
    }
   ],
   "source": [
    "pikachu.add_friend(butterfree)\n",
    "pikachu.add_friend(starmie)\n",
    "pikachu.show_friends()\n",
    "starmie.show_friends()"
   ]
  },
  {
   "cell_type": "code",
   "execution_count": 57,
   "metadata": {},
   "outputs": [
    {
     "name": "stdout",
     "output_type": "stream",
     "text": [
      "전체 포켓몬: 피카츄, 버터플, 아쿠스타, 이브이 (4마리)\n"
     ]
    }
   ],
   "source": [
    "Pokemon.show_total_pokemon()"
   ]
  },
  {
   "cell_type": "code",
   "execution_count": 58,
   "metadata": {},
   "outputs": [
    {
     "data": {
      "text/plain": [
       "[피카츄 (전기), 버터플 (벌레), 아쿠스타 (물), 이브이 (노멀)]"
      ]
     },
     "execution_count": 58,
     "metadata": {},
     "output_type": "execute_result"
    }
   ],
   "source": [
    "Pokemon.POKEMON_LIST"
   ]
  },
  {
   "cell_type": "code",
   "execution_count": null,
   "metadata": {},
   "outputs": [],
   "source": [
    "Pokemon.add_friend\n"
   ]
  }
 ],
 "metadata": {
  "kernelspec": {
   "display_name": "Python 3",
   "language": "python",
   "name": "python3"
  },
  "language_info": {
   "codemirror_mode": {
    "name": "ipython",
    "version": 3
   },
   "file_extension": ".py",
   "mimetype": "text/x-python",
   "name": "python",
   "nbconvert_exporter": "python",
   "pygments_lexer": "ipython3",
   "version": "3.6.9"
  }
 },
 "nbformat": 4,
 "nbformat_minor": 2
}
